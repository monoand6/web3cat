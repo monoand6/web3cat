{
 "cells": [
  {
   "cell_type": "code",
   "execution_count": 1,
   "id": "7fff65d2-8c21-4455-a27a-925e9c19aacf",
   "metadata": {},
   "outputs": [],
   "source": [
    "import os, sys\n",
    "sys.path.insert(1, os.path.join(sys.path[0], \"../..\"))"
   ]
  },
  {
   "cell_type": "code",
   "execution_count": 2,
   "id": "4a724ca7-e470-44aa-8724-09c24a5d1fe6",
   "metadata": {},
   "outputs": [
    {
     "name": "stdout",
     "output_type": "stream",
     "text": [
      "Fetching 2 eth balances |████████████████████| 100.0% \n"
     ]
    },
    {
     "data": {
      "application/json": [
       {
        "address": "0x8eb8a3b98659cce290402893d0123abb75e3ab28",
        "balance": 350.46304073923125,
        "blockNumber": 15700000,
        "chainId": 1
       },
       {
        "address": "0x8eb8a3b98659cce290402893d0123abb75e3ab28",
        "balance": 348.95888639701457,
        "blockNumber": 15800000,
        "chainId": 1
       },
       {
        "address": "0xd8da6bf26964af9d7eed9e03e53415d37aa96045",
        "balance": 1001.5917855971987,
        "blockNumber": 15700000,
        "chainId": 1
       },
       {
        "address": "0xd8da6bf26964af9d7eed9e03e53415d37aa96045",
        "balance": 1000.0246396145312,
        "blockNumber": 15800000,
        "chainId": 1
       }
      ],
      "text/plain": [
       "<IPython.core.display.JSON object>"
      ]
     },
     "execution_count": 2,
     "metadata": {
      "application/json": {
       "expanded": false,
       "root": "root"
      }
     },
     "output_type": "execute_result"
    }
   ],
   "source": [
    "from fetcher.balances import BalancesService\n",
    "from IPython.display import JSON\n",
    "\n",
    "addresses = [\n",
    "    \"0xd8dA6BF26964aF9D7eEd9e03E53415D37aA96045\",\n",
    "    \"0x8EB8a3b98659Cce290402893d0123abb75E3ab28\",\n",
    "]\n",
    "blocks = [15700000, 15800000]\n",
    "service = BalancesService.create()\n",
    "response = service.get_balances(addresses, blocks)\n",
    "\n",
    "JSON([r.to_dict() for r in response])"
   ]
  },
  {
   "cell_type": "code",
   "execution_count": null,
   "id": "61493cea-43f3-421f-8c7d-4ecb73b79bf1",
   "metadata": {},
   "outputs": [],
   "source": []
  }
 ],
 "metadata": {
  "kernelspec": {
   "display_name": "Python 3 (ipykernel)",
   "language": "python",
   "name": "python3"
  },
  "language_info": {
   "codemirror_mode": {
    "name": "ipython",
    "version": 3
   },
   "file_extension": ".py",
   "mimetype": "text/x-python",
   "name": "python",
   "nbconvert_exporter": "python",
   "pygments_lexer": "ipython3",
   "version": "3.10.6"
  }
 },
 "nbformat": 4,
 "nbformat_minor": 5
}
