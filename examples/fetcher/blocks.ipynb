{
 "cells": [
  {
   "cell_type": "code",
   "execution_count": 1,
   "id": "7fff65d2-8c21-4455-a27a-925e9c19aacf",
   "metadata": {},
   "outputs": [],
   "source": [
    "import os, sys\n",
    "sys.path.insert(1, os.path.join(sys.path[0], \"../..\"))"
   ]
  },
  {
   "cell_type": "code",
   "execution_count": 2,
   "id": "4a724ca7-e470-44aa-8724-09c24a5d1fe6",
   "metadata": {},
   "outputs": [
    {
     "data": {
      "application/json": [
       {
        "chainId": 1,
        "number": 13915108,
        "timestamp": 1640980800
       },
       {
        "chainId": 1,
        "number": 13925133,
        "timestamp": 1641114716
       },
       {
        "chainId": 1,
        "number": 13935176,
        "timestamp": 1641248630
       },
       {
        "chainId": 1,
        "number": 13945223,
        "timestamp": 1641382555
       },
       {
        "chainId": 1,
        "number": 13955183,
        "timestamp": 1641516473
       },
       {
        "chainId": 1,
        "number": 13965160,
        "timestamp": 1641650398
       },
       {
        "chainId": 1,
        "number": 13975303,
        "timestamp": 1641784319
       },
       {
        "chainId": 1,
        "number": 13985305,
        "timestamp": 1641918234
       },
       {
        "chainId": 1,
        "number": 13995333,
        "timestamp": 1642052150
       },
       {
        "chainId": 1,
        "number": 14005335,
        "timestamp": 1642186076
       },
       {
        "chainId": 1,
        "number": 14015304,
        "timestamp": 1642319999
       },
       {
        "chainId": 1,
        "number": 14025409,
        "timestamp": 1642453919
       },
       {
        "chainId": 1,
        "number": 14035420,
        "timestamp": 1642587838
       },
       {
        "chainId": 1,
        "number": 14045478,
        "timestamp": 1642721752
       },
       {
        "chainId": 1,
        "number": 14055491,
        "timestamp": 1642855674
       },
       {
        "chainId": 1,
        "number": 14065516,
        "timestamp": 1642989600
       },
       {
        "chainId": 1,
        "number": 14075481,
        "timestamp": 1643123512
       },
       {
        "chainId": 1,
        "number": 14085542,
        "timestamp": 1643257435
       },
       {
        "chainId": 1,
        "number": 14095552,
        "timestamp": 1643391354
       },
       {
        "chainId": 1,
        "number": 14105621,
        "timestamp": 1643525272
       }
      ],
      "text/plain": [
       "<IPython.core.display.JSON object>"
      ]
     },
     "execution_count": 2,
     "metadata": {
      "application/json": {
       "expanded": false,
       "root": "root"
      }
     },
     "output_type": "execute_result"
    }
   ],
   "source": [
    "from web3cat.fetcher.blocks import BlocksService\n",
    "from datetime import datetime\n",
    "from time import mktime\n",
    "from IPython.display import JSON\n",
    "\n",
    "jan = int(mktime(datetime(2022, 1, 1).timetuple()))\n",
    "feb = int(mktime(datetime(2022, 2, 1).timetuple()))\n",
    "step = (feb - jan) // 20\n",
    "timestamps = list(range(jan, feb, step))\n",
    "service = BlocksService.create()\n",
    "response = service.get_latest_blocks_by_timestamps(timestamps)\n",
    "\n",
    "JSON([r.to_dict() for r in response])"
   ]
  },
  {
   "cell_type": "code",
   "execution_count": 3,
   "id": "fedbdad5-1d9d-4a50-bf19-5dda6de02ad2",
   "metadata": {},
   "outputs": [
    {
     "data": {
      "application/json": [
       {
        "chainId": 1,
        "number": 13915108,
        "timestamp": 1640980800
       },
       {
        "chainId": 1,
        "number": 13975303,
        "timestamp": 1641784319
       },
       {
        "chainId": 1,
        "number": 14085542,
        "timestamp": 1643257435
       }
      ],
      "text/plain": [
       "<IPython.core.display.JSON object>"
      ]
     },
     "execution_count": 3,
     "metadata": {
      "application/json": {
       "expanded": false,
       "root": "root"
      }
     },
     "output_type": "execute_result"
    }
   ],
   "source": [
    "response = service.get_blocks([13915108, 13975303, 14085542])\n",
    "JSON([r.to_dict() for r in response])"
   ]
  },
  {
   "cell_type": "code",
   "execution_count": null,
   "id": "61493cea-43f3-421f-8c7d-4ecb73b79bf1",
   "metadata": {},
   "outputs": [],
   "source": []
  },
  {
   "cell_type": "code",
   "execution_count": null,
   "id": "74bbd194-360d-48f5-b09c-42a5a09f478e",
   "metadata": {},
   "outputs": [],
   "source": []
  }
 ],
 "metadata": {
  "kernelspec": {
   "display_name": "Python 3 (ipykernel)",
   "language": "python",
   "name": "python3"
  },
  "language_info": {
   "codemirror_mode": {
    "name": "ipython",
    "version": 3
   },
   "file_extension": ".py",
   "mimetype": "text/x-python",
   "name": "python",
   "nbconvert_exporter": "python",
   "pygments_lexer": "ipython3",
   "version": "3.10.6"
  }
 },
 "nbformat": 4,
 "nbformat_minor": 5
}
