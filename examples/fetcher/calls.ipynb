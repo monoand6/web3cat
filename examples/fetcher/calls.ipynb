{
 "cells": [
  {
   "cell_type": "code",
   "execution_count": 1,
   "id": "7fff65d2-8c21-4455-a27a-925e9c19aacf",
   "metadata": {},
   "outputs": [],
   "source": [
    "import os, sys\n",
    "sys.path.insert(1, os.path.join(sys.path[0], \"../..\"))"
   ]
  },
  {
   "cell_type": "code",
   "execution_count": 2,
   "id": "4a724ca7-e470-44aa-8724-09c24a5d1fe6",
   "metadata": {},
   "outputs": [
    {
     "data": {
      "application/json": {
       "address": "0x6b175474e89094c44da98b954eedeac495271d0f",
       "blockNumber": 15632000,
       "calldata": "0x70a082310000000000000000000000005d3a536e4d6dbd6114cc1ead35777bab948e3643",
       "chainId": 1,
       "response": 4.0802472224469444e+26
      },
      "text/plain": [
       "<IPython.core.display.JSON object>"
      ]
     },
     "execution_count": 2,
     "metadata": {
      "application/json": {
       "expanded": false,
       "root": "root"
      }
     },
     "output_type": "execute_result"
    }
   ],
   "source": [
    "from fetcher.calls import CallsService\n",
    "from fetcher.erc20_metas import ERC20MetasService\n",
    "from IPython.display import JSON\n",
    "\n",
    "erc20 = ERC20MetasService.create()\n",
    "dai = erc20.get(\"Dai\")\n",
    "compound_address = \"0x5d3a536E4D6DbD6114cc1Ead35777bAB948E3643\"\n",
    "\n",
    "service = CallsService.create()\n",
    "response = service.get_call(\n",
    "    dai.contract.functions.balanceOf(compound_address), block_number=15632000\n",
    ")\n",
    "# => serving from cache\n",
    "JSON(response.to_dict())"
   ]
  },
  {
   "cell_type": "code",
   "execution_count": null,
   "id": "61493cea-43f3-421f-8c7d-4ecb73b79bf1",
   "metadata": {},
   "outputs": [],
   "source": []
  }
 ],
 "metadata": {
  "kernelspec": {
   "display_name": "Python 3 (ipykernel)",
   "language": "python",
   "name": "python3"
  },
  "language_info": {
   "codemirror_mode": {
    "name": "ipython",
    "version": 3
   },
   "file_extension": ".py",
   "mimetype": "text/x-python",
   "name": "python",
   "nbconvert_exporter": "python",
   "pygments_lexer": "ipython3",
   "version": "3.10.6"
  }
 },
 "nbformat": 4,
 "nbformat_minor": 5
}
