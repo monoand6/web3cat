{
 "cells": [
  {
   "cell_type": "code",
   "execution_count": 2,
   "id": "7fff65d2-8c21-4455-a27a-925e9c19aacf",
   "metadata": {},
   "outputs": [],
   "source": [
    "import os, sys\n",
    "sys.path.insert(1, os.path.join(sys.path[0], \"../..\"))"
   ]
  },
  {
   "cell_type": "code",
   "execution_count": 3,
   "id": "4a724ca7-e470-44aa-8724-09c24a5d1fe6",
   "metadata": {},
   "outputs": [
    {
     "name": "stdout",
     "output_type": "stream",
     "text": [
      "ERC20Meta({\"chainId\": 1, \"address\": \"0x6b175474e89094c44da98b954eedeac495271d0f\", \"name\": \"dai stable coin\", \"symbol\": \"dai\", \"decimals\": 18})\n",
      "ERC20Meta({\"chainId\": 1, \"address\": \"0xa0b86991c6218b36c1d19d4a2e9eb0ce3606eb48\", \"name\": \"usd coin\", \"symbol\": \"usdc\", \"decimals\": 6})\n",
      "ERC20Meta({\"chainId\": 1, \"address\": \"0xc02aaa39b223fe8d0a0e5c4f27ead9083c756cc2\", \"name\": \"weth\", \"symbol\": \"weth\", \"decimals\": 18})\n"
     ]
    }
   ],
   "source": [
    "from fetcher.erc20_metas import ERC20MetasService\n",
    "\n",
    "service = ERC20MetasService.create()\n",
    "dai_meta = service.get(\"Dai\")\n",
    "print(dai_meta)\n",
    "usdc_meta = service.get(\"USDC\")\n",
    "print(usdc_meta)\n",
    "weth_meta = service.get(\"0xC02aaA39b223FE8D0A0e5C4F27eAD9083C756Cc2\")\n",
    "print(weth_meta)"
   ]
  },
  {
   "cell_type": "code",
   "execution_count": null,
   "id": "61493cea-43f3-421f-8c7d-4ecb73b79bf1",
   "metadata": {},
   "outputs": [],
   "source": []
  }
 ],
 "metadata": {
  "kernelspec": {
   "display_name": "Python 3 (ipykernel)",
   "language": "python",
   "name": "python3"
  },
  "language_info": {
   "codemirror_mode": {
    "name": "ipython",
    "version": 3
   },
   "file_extension": ".py",
   "mimetype": "text/x-python",
   "name": "python",
   "nbconvert_exporter": "python",
   "pygments_lexer": "ipython3",
   "version": "3.10.6"
  }
 },
 "nbformat": 4,
 "nbformat_minor": 5
}
