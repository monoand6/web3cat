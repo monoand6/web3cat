{
 "cells": [
  {
   "cell_type": "code",
   "execution_count": 1,
   "id": "7fff65d2-8c21-4455-a27a-925e9c19aacf",
   "metadata": {},
   "outputs": [],
   "source": [
    "import os, sys\n",
    "sys.path.insert(1, os.path.join(sys.path[0], \"../..\"))"
   ]
  },
  {
   "cell_type": "code",
   "execution_count": 2,
   "id": "4a724ca7-e470-44aa-8724-09c24a5d1fe6",
   "metadata": {},
   "outputs": [
    {
     "data": {
      "application/json": [
       {
        "address": "0x6b175474e89094c44da98b954eedeac495271d0f",
        "args": {
         "from": "0x4542c74877dc7cf5831802ab1deac10fbe4b5633",
         "to": "0x0e3eb2eab0e524b69c79e24910f4318db46baa9c",
         "value": 35675675670000000000
        },
        "blockNumber": 15830001,
        "chainId": 1,
        "event": "Transfer",
        "logIndex": 286,
        "transactionHash": "0xace55079e93bfb2ff0622307d3c28d6fc963d7dedfb2e17309eb980407dc5e34"
       },
       {
        "address": "0x6b175474e89094c44da98b954eedeac495271d0f",
        "args": {
         "from": "0x0e3eb2eab0e524b69c79e24910f4318db46baa9c",
         "to": "0x63286599346f515b81a703483c56ffb0a4e6f40b",
         "value": 35675675670000000
        },
        "blockNumber": 15830001,
        "chainId": 1,
        "event": "Transfer",
        "logIndex": 288,
        "transactionHash": "0xace55079e93bfb2ff0622307d3c28d6fc963d7dedfb2e17309eb980407dc5e34"
       },
       {
        "address": "0x6b175474e89094c44da98b954eedeac495271d0f",
        "args": {
         "from": "0x0e3eb2eab0e524b69c79e24910f4318db46baa9c",
         "to": "0xb20bd5d04be54f870d5c0d3ca85d82b34b836405",
         "value": 35639999994330000000
        },
        "blockNumber": 15830001,
        "chainId": 1,
        "event": "Transfer",
        "logIndex": 290,
        "transactionHash": "0xace55079e93bfb2ff0622307d3c28d6fc963d7dedfb2e17309eb980407dc5e34"
       },
       {
        "address": "0x6b175474e89094c44da98b954eedeac495271d0f",
        "args": {
         "from": "0xaaf5110db6e744ff70fb339de037b990a20bdace",
         "to": "0x180555d4d45e67520adc7c0c51b512c7a50877f2",
         "value": 100252587127486410000
        },
        "blockNumber": 15830003,
        "chainId": 1,
        "event": "Transfer",
        "logIndex": 216,
        "transactionHash": "0x5ddf93f7a1005086c12bd32c59fa908aa68dd8f67aba2308377e60226528f31f"
       },
       {
        "address": "0x6b175474e89094c44da98b954eedeac495271d0f",
        "args": {
         "from": "0x180555d4d45e67520adc7c0c51b512c7a50877f2",
         "to": "0x48da0965ab2d2cbf1c17c09cfb5cbe67ad5b1406",
         "value": 100252587127486410000
        },
        "blockNumber": 15830003,
        "chainId": 1,
        "event": "Transfer",
        "logIndex": 221,
        "transactionHash": "0x5ddf93f7a1005086c12bd32c59fa908aa68dd8f67aba2308377e60226528f31f"
       }
      ],
      "text/plain": [
       "<IPython.core.display.JSON object>"
      ]
     },
     "execution_count": 2,
     "metadata": {
      "application/json": {
       "expanded": false,
       "root": "root"
      }
     },
     "output_type": "execute_result"
    }
   ],
   "source": [
    "from web3cat.fetcher.events import EventsService\n",
    "from web3cat.fetcher.erc20_metas import ERC20MetasService\n",
    "from IPython.display import JSON\n",
    "\n",
    "erc20 = ERC20MetasService.create()\n",
    "dai = erc20.get(\"Dai\")\n",
    "\n",
    "service = EventsService.create()\n",
    "events = service.get_events(\n",
    "    dai.contract.events.Transfer, from_block=15830000, to_block=15840100\n",
    ")\n",
    "JSON([e.to_dict() for e in events[:5]])"
   ]
  },
  {
   "cell_type": "code",
   "execution_count": null,
   "id": "61493cea-43f3-421f-8c7d-4ecb73b79bf1",
   "metadata": {},
   "outputs": [],
   "source": []
  }
 ],
 "metadata": {
  "kernelspec": {
   "display_name": "Python 3 (ipykernel)",
   "language": "python",
   "name": "python3"
  },
  "language_info": {
   "codemirror_mode": {
    "name": "ipython",
    "version": 3
   },
   "file_extension": ".py",
   "mimetype": "text/x-python",
   "name": "python",
   "nbconvert_exporter": "python",
   "pygments_lexer": "ipython3",
   "version": "3.10.6"
  }
 },
 "nbformat": 4,
 "nbformat_minor": 5
}
